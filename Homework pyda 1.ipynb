{
 "cells": [
  {
   "cell_type": "code",
   "execution_count": 1,
   "metadata": {},
   "outputs": [
    {
     "data": {
      "text/plain": [
       "True"
      ]
     },
     "execution_count": 1,
     "metadata": {},
     "output_type": "execute_result"
    }
   ],
   "source": [
    "long_phrase = 'Если бы не работа, то я отправил домашнее задание раньше. Конфуций' \n",
    "short_phrase = 'К знаниям основ SQL добавяться знания по Phyton' \n",
    "len ('Если бы не работа, то я отправил домашнее задание раньше. Конфуций') > len('К знаниям основ SQL добавяться знания по Phyton')"
   ]
  },
  {
   "cell_type": "code",
   "execution_count": 3,
   "metadata": {},
   "outputs": [
    {
     "name": "stdout",
     "output_type": "stream",
     "text": [
      "Выберите единицы измерения:\n",
      " \t1 - байты,\n",
      " \t2 - килобайты,\n",
      " \t3 - мегабайты,\n",
      " \t4 - гигабайты.\n",
      "№: 3\n",
      "Введите значение: 213.68\n",
      "Байты:      224059719\n",
      "Килобайты:     218808\n",
      "Гигабайты:      0.209\n"
     ]
    }
   ],
   "source": [
    "units = input(\"Выберите единицы измерения:\\n \\\n",
    "\\t1 - байты,\\n \\\n",
    "\\t2 - килобайты,\\n \\\n",
    "\\t3 - мегабайты,\\n \\\n",
    "\\t4 - гигабайты.\\n№: \")\n",
    " \n",
    "qty = float(input(\"Введите значение: \"))\n",
    " \n",
    "if units == '1':\n",
    "\tprint(\"Килобайты: %10.3f\" % (qty / 2**10))\n",
    "\tprint(\"Мегабайты: %10.3f\" % (qty / 2**20))\n",
    "\tprint(\"Гигабайты: %10.3f\" % (qty / 2**30))\n",
    "elif units == '2':\n",
    "\tprint(\"Байты: %14d\" % (qty * 2**10))\n",
    "\tprint(\"Мегабайты: %10.3f\" % (qty / 2**10))\n",
    "\tprint(\"Гигабайты: %10.3f\" % (qty / 2**20))\n",
    "elif units == '3':\n",
    "\tprint(\"Байты: %14d\" % (qty * 2**20))\n",
    "\tprint(\"Килобайты: %10d\" % (qty * 2**10))\n",
    "\tprint(\"Гигабайты: %10.3f\" % (qty / 2**10))\n",
    "elif units == '4':\n",
    "\tprint(\"Байты: %14d\" % (qty * 2**30))\n",
    "\tprint(\"Килобайты: %10d\" % (qty * 2**20))\n",
    "\tprint(\"Мегабайты: %10d\" % (qty * 2**10))"
   ]
  },
  {
   "cell_type": "code",
   "execution_count": 5,
   "metadata": {},
   "outputs": [
    {
     "name": "stdout",
     "output_type": "stream",
     "text": [
      "Месяц рождения Август\n",
      "День рождения 30\n",
      "Дева\n"
     ]
    }
   ],
   "source": [
    "month = input('Месяц рождения ') \n",
    "day = input('День рождения ') \n",
    "if month == 'Август' or day == 30: \n",
    "    print('Дева') \n",
    "else: \n",
    "    print('Какой-то другой')"
   ]
  },
  {
   "cell_type": "code",
   "execution_count": 6,
   "metadata": {},
   "outputs": [
    {
     "name": "stdout",
     "output_type": "stream",
     "text": [
      "Введите заработную плату в месяц100000\n",
      "Введите сколько процентов тратится на ипотеку30\n",
      "Введите сколько процентов уходит на жизнь50\n",
      "Введите количество премий за год2\n"
     ]
    },
    {
     "data": {
      "text/plain": [
       "1200002"
      ]
     },
     "execution_count": 6,
     "metadata": {},
     "output_type": "execute_result"
    }
   ],
   "source": [
    "salary = int(input('Введите заработную плату в месяц'))\n",
    "mortgage = int(input('Введите сколько процентов тратится на ипотеку'))\n",
    "life = int(input('Введите сколько процентов уходит на жизнь'))\n",
    "prize = int(input('Введите количество премий за год'))\n",
    "a = salary*12\n",
    "b = a/100*mortgage\n",
    "c = a/100*life\n",
    "a+prize"
   ]
  },
  {
   "cell_type": "code",
   "execution_count": null,
   "metadata": {},
   "outputs": [],
   "source": []
  }
 ],
 "metadata": {
  "kernelspec": {
   "display_name": "Python 3",
   "language": "python",
   "name": "python3"
  },
  "language_info": {
   "codemirror_mode": {
    "name": "ipython",
    "version": 3
   },
   "file_extension": ".py",
   "mimetype": "text/x-python",
   "name": "python",
   "nbconvert_exporter": "python",
   "pygments_lexer": "ipython3",
   "version": "3.7.3"
  }
 },
 "nbformat": 4,
 "nbformat_minor": 2
}
